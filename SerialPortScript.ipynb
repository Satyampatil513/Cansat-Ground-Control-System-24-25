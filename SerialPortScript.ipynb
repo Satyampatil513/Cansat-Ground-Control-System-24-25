{
 "cells": [
  {
   "cell_type": "code",
   "execution_count": 1,
   "metadata": {},
   "outputs": [],
   "source": [
    "import time\n",
    "import random\n",
    "from queue import Queue\n",
    "import threading\n",
    "def generate_dummy_data(data_queue, interval=1):\n",
    "    while True:\n",
    "        dummy_data = f\"data: {random.randint(0, 100)}\"\n",
    "        data_queue.put(dummy_data)\n",
    "        time.sleep(interval)\n",
    "\n",
    "def read_dummy_data(data_queue):\n",
    "    while True:\n",
    "        if not data_queue.empty():\n",
    "            data = data_queue.get()\n",
    "            print(f\"Read data: {data}\")\n",
    "        else:\n",
    "            time.sleep(0.1)\n",
    "\n",
    "def startserialport(serialport):\n",
    "    data_queue = Queue()\n",
    "    generator_thread = threading.Thread(target=generate_dummy_data, args=(data_queue,))\n",
    "    generator_thread.daemon = True\n",
    "    generator_thread.start()\n",
    "    if(serialport==\"Testing\"):\n",
    "        try:\n",
    "            read_dummy_data(data_queue)\n",
    "        except KeyboardInterrupt:\n",
    "            print(\"Program terminated\")\n",
    "        "
   ]
  },
  {
   "cell_type": "code",
   "execution_count": 2,
   "metadata": {},
   "outputs": [
    {
     "name": "stdout",
     "output_type": "stream",
     "text": [
      "Read data: data: 54\n",
      "Read data: data: 64\n",
      "Read data: data: 50\n",
      "Read data: data: 4\n",
      "Read data: data: 18\n",
      "Read data: data: 97\n",
      "Read data: data: 99\n",
      "Program terminated\n"
     ]
    }
   ],
   "source": [
    "startserialport(\"Testing\")"
   ]
  },
  {
   "cell_type": "code",
   "execution_count": 3,
   "metadata": {},
   "outputs": [
    {
     "name": "stdout",
     "output_type": "stream",
     "text": [
      "Opening dummy serial port COM1 with baudrate 9600\n",
      "Read data: data: 78\n",
      "Read data: data: 100\n",
      "Read data: data: 45\n",
      "Read data: data: 86\n",
      "Closing dummy serial port COM1\n",
      "Program terminated\n"
     ]
    }
   ],
   "source": [
    "import time\n",
    "import random\n",
    "\n",
    "class DummySerialPort:\n",
    "    def __init__(self, port, baudrate, interval=1):\n",
    "        self.port = port\n",
    "        self.baudrate = baudrate\n",
    "        self.interval = interval\n",
    "        self.buffer = []\n",
    "\n",
    "    def open(self):\n",
    "        print(f\"Opening dummy serial port {self.port} with baudrate {self.baudrate}\")\n",
    "\n",
    "    def close(self):\n",
    "        print(f\"Closing dummy serial port {self.port}\")\n",
    "\n",
    "    def generate_data(self):\n",
    "        dummy_data = f\"data: {random.randint(0, 100)}\"\n",
    "        self.buffer.append(dummy_data)\n",
    "\n",
    "    def read(self):\n",
    "        if self.buffer:\n",
    "            return self.buffer.pop(0)\n",
    "        else:\n",
    "            return None\n",
    "\n",
    "if __name__ == \"__main__\":\n",
    "    dummy_serial = DummySerialPort(port=\"COM1\", baudrate=9600, interval=1)\n",
    "    dummy_serial.open()\n",
    "\n",
    "    try:\n",
    "        while True:\n",
    "            dummy_serial.generate_data()\n",
    "            data = dummy_serial.read()\n",
    "            if data:\n",
    "                print(f\"Read data: {data}\")\n",
    "            time.sleep(dummy_serial.interval)\n",
    "    except KeyboardInterrupt:\n",
    "        dummy_serial.close()\n",
    "        print(\"Program terminated\")\n"
   ]
  },
  {
   "cell_type": "code",
   "execution_count": null,
   "metadata": {},
   "outputs": [],
   "source": []
  }
 ],
 "metadata": {
  "kernelspec": {
   "display_name": "Python 3",
   "language": "python",
   "name": "python3"
  },
  "language_info": {
   "codemirror_mode": {
    "name": "ipython",
    "version": 3
   },
   "file_extension": ".py",
   "mimetype": "text/x-python",
   "name": "python",
   "nbconvert_exporter": "python",
   "pygments_lexer": "ipython3",
   "version": "3.10.12"
  }
 },
 "nbformat": 4,
 "nbformat_minor": 2
}
